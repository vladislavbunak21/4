{
 "cells": [
  {
   "cell_type": "markdown",
   "metadata": {},
   "source": [
    "# Домашня робота №4"
   ]
  },
  {
   "cell_type": "markdown",
   "metadata": {},
   "source": [
    "# Дискретні розподіли"
   ]
  },
  {
   "cell_type": "code",
   "execution_count": 1,
   "metadata": {
    "collapsed": true
   },
   "outputs": [],
   "source": [
    "import numpy as np\n",
    "import matplotlib.pyplot as plt"
   ]
  },
  {
   "cell_type": "markdown",
   "metadata": {},
   "source": [
    "## 1 Від'ємний біноміальний розподіл"
   ]
  },
  {
   "cell_type": "markdown",
   "metadata": {},
   "source": [
    "Більш детальна інформація в [документації](https://docs.scipy.org/doc/scipy/reference/generated/scipy.stats.nbinom.html)."
   ]
  },
  {
   "cell_type": "code",
   "execution_count": 2,
   "metadata": {
    "collapsed": true
   },
   "outputs": [],
   "source": [
    "from scipy.stats import nbinom"
   ]
  },
  {
   "cell_type": "code",
   "execution_count": 3,
   "metadata": {
    "collapsed": true
   },
   "outputs": [],
   "source": [
    "n = 5\n",
    "p = 0.4"
   ]
  },
  {
   "cell_type": "markdown",
   "metadata": {},
   "source": [
    "### 1.1 Щільність"
   ]
  },
  {
   "cell_type": "code",
   "execution_count": 9,
   "metadata": {},
   "outputs": [
    {
     "ename": "NameError",
     "evalue": "name 'np' is not defined",
     "output_type": "error",
     "traceback": [
      "\u001b[1;31m---------------------------------------------------------------------------\u001b[0m",
      "\u001b[1;31mNameError\u001b[0m                                 Traceback (most recent call last)",
      "\u001b[1;32m<ipython-input-9-1d821a5d3425>\u001b[0m in \u001b[0;36m<module>\u001b[1;34m\u001b[0m\n\u001b[1;32m----> 1\u001b[1;33m \u001b[0mx\u001b[0m \u001b[1;33m=\u001b[0m \u001b[0mnp\u001b[0m\u001b[1;33m.\u001b[0m\u001b[0marange\u001b[0m\u001b[1;33m(\u001b[0m\u001b[1;33m-\u001b[0m\u001b[1;36m0.5\u001b[0m\u001b[1;33m,\u001b[0m \u001b[0mn\u001b[0m\u001b[1;33m*\u001b[0m\u001b[1;36m5\u001b[0m\u001b[1;33m+\u001b[0m\u001b[1;36m1\u001b[0m\u001b[1;33m,\u001b[0m \u001b[1;36m0.5\u001b[0m\u001b[1;33m)\u001b[0m\u001b[1;33m\u001b[0m\u001b[1;33m\u001b[0m\u001b[0m\n\u001b[0m",
      "\u001b[1;31mNameError\u001b[0m: name 'np' is not defined"
     ]
    }
   ],
   "source": [
    "x = np.arange(-0.5, n*5+1, 0.5)"
   ]
  },
  {
   "cell_type": "markdown",
   "metadata": {},
   "source": [
    "Виведіть значення функції щільності від'ємного біноміального розподілу з параметрами $n, p$ в точках вектора $x$."
   ]
  },
  {
   "cell_type": "code",
   "execution_count": 21,
   "metadata": {},
   "outputs": [
    {
     "ename": "NameError",
     "evalue": "name 'nbinom' is not defined",
     "output_type": "error",
     "traceback": [
      "\u001b[1;31m---------------------------------------------------------------------------\u001b[0m",
      "\u001b[1;31mNameError\u001b[0m                                 Traceback (most recent call last)",
      "\u001b[1;32m<ipython-input-21-512456eee1f8>\u001b[0m in \u001b[0;36m<module>\u001b[1;34m\u001b[0m\n\u001b[0;32m      1\u001b[0m \u001b[1;31m# Місце для Вашого коду\u001b[0m\u001b[1;33m\u001b[0m\u001b[1;33m\u001b[0m\u001b[1;33m\u001b[0m\u001b[0m\n\u001b[1;32m----> 2\u001b[1;33m \u001b[0my\u001b[0m \u001b[1;33m=\u001b[0m \u001b[0mnbinom\u001b[0m\u001b[1;33m.\u001b[0m\u001b[0mpmf\u001b[0m\u001b[1;33m(\u001b[0m\u001b[0mx\u001b[0m\u001b[1;33m,\u001b[0m \u001b[0mn\u001b[0m\u001b[1;33m,\u001b[0m \u001b[0mp\u001b[0m\u001b[1;33m)\u001b[0m\u001b[1;33m\u001b[0m\u001b[1;33m\u001b[0m\u001b[0m\n\u001b[0m\u001b[0;32m      3\u001b[0m \u001b[0mprint\u001b[0m\u001b[1;33m(\u001b[0m\u001b[0my\u001b[0m\u001b[1;33m)\u001b[0m\u001b[1;33m\u001b[0m\u001b[1;33m\u001b[0m\u001b[0m\n",
      "\u001b[1;31mNameError\u001b[0m: name 'nbinom' is not defined"
     ]
    }
   ],
   "source": [
    "# Місце для Вашого коду\n",
    "y = nbinom.pmf(x, n, p)\n",
    "print(y)\n"
   ]
  },
  {
   "cell_type": "markdown",
   "metadata": {},
   "source": [
    "Зобразіть графічно значення функції щільності від'ємного біноміального розподілу з параметрами $n, p$ в точках вектора $x$."
   ]
  },
  {
   "cell_type": "code",
   "execution_count": 11,
   "metadata": {
    "scrolled": true
   },
   "outputs": [
    {
     "ename": "NameError",
     "evalue": "name 'plt' is not defined",
     "output_type": "error",
     "traceback": [
      "\u001b[1;31m---------------------------------------------------------------------------\u001b[0m",
      "\u001b[1;31mNameError\u001b[0m                                 Traceback (most recent call last)",
      "\u001b[1;32m<ipython-input-11-b18aa13805dc>\u001b[0m in \u001b[0;36m<module>\u001b[1;34m\u001b[0m\n\u001b[0;32m      1\u001b[0m \u001b[1;31m# Місце для Вашого коду\u001b[0m\u001b[1;33m\u001b[0m\u001b[1;33m\u001b[0m\u001b[1;33m\u001b[0m\u001b[0m\n\u001b[1;32m----> 2\u001b[1;33m \u001b[0mplt\u001b[0m\u001b[1;33m.\u001b[0m\u001b[0mstem\u001b[0m\u001b[1;33m(\u001b[0m\u001b[0mx\u001b[0m\u001b[1;33m,\u001b[0m \u001b[0my\u001b[0m\u001b[1;33m)\u001b[0m\u001b[1;33m\u001b[0m\u001b[1;33m\u001b[0m\u001b[0m\n\u001b[0m\u001b[0;32m      3\u001b[0m \u001b[0mplt\u001b[0m\u001b[1;33m.\u001b[0m\u001b[0mshow\u001b[0m\u001b[1;33m(\u001b[0m\u001b[1;33m)\u001b[0m\u001b[1;33m\u001b[0m\u001b[1;33m\u001b[0m\u001b[0m\n",
      "\u001b[1;31mNameError\u001b[0m: name 'plt' is not defined"
     ]
    }
   ],
   "source": [
    "# Місце для Вашого коду\n",
    "plt.stem(x, y)\n",
    "plt.show()\n"
   ]
  },
  {
   "cell_type": "markdown",
   "metadata": {},
   "source": [
    "Зобразіть графічно значення функції щільності від'ємного біноміального розподілу з параметрами $n, p$ в точках вектора $x1$."
   ]
  },
  {
   "cell_type": "code",
   "execution_count": 7,
   "metadata": {
    "collapsed": true
   },
   "outputs": [],
   "source": [
    "x1 = np.arange(0, n*5+1)"
   ]
  },
  {
   "cell_type": "code",
   "execution_count": 8,
   "metadata": {},
   "outputs": [],
   "source": [
    "# Місце для Вашого коду\n",
    "y1 = nbinom.pmf(x1, n, p)\n",
    "plt.stem(x1, y1)\n",
    "plt.show()\n"
   ]
  },
  {
   "cell_type": "markdown",
   "metadata": {},
   "source": [
    "### 1.2 Функція розподілу"
   ]
  },
  {
   "cell_type": "markdown",
   "metadata": {},
   "source": [
    "Виведіть значення функції розподілу від'ємного біноміального розподілу з параметрами $n, p$ в точках вектора $x$."
   ]
  },
  {
   "cell_type": "code",
   "execution_count": 12,
   "metadata": {},
   "outputs": [
    {
     "ename": "NameError",
     "evalue": "name 'nbinom' is not defined",
     "output_type": "error",
     "traceback": [
      "\u001b[1;31m---------------------------------------------------------------------------\u001b[0m",
      "\u001b[1;31mNameError\u001b[0m                                 Traceback (most recent call last)",
      "\u001b[1;32m<ipython-input-12-83e0f7857e26>\u001b[0m in \u001b[0;36m<module>\u001b[1;34m\u001b[0m\n\u001b[0;32m      1\u001b[0m \u001b[1;31m# Місце для Вашого коду\u001b[0m\u001b[1;33m\u001b[0m\u001b[1;33m\u001b[0m\u001b[1;33m\u001b[0m\u001b[0m\n\u001b[1;32m----> 2\u001b[1;33m \u001b[0my\u001b[0m \u001b[1;33m=\u001b[0m \u001b[0mnbinom\u001b[0m\u001b[1;33m.\u001b[0m\u001b[0mcdf\u001b[0m\u001b[1;33m(\u001b[0m\u001b[0mx\u001b[0m\u001b[1;33m,\u001b[0m \u001b[0mn\u001b[0m\u001b[1;33m,\u001b[0m \u001b[0mp\u001b[0m\u001b[1;33m)\u001b[0m\u001b[1;33m\u001b[0m\u001b[1;33m\u001b[0m\u001b[0m\n\u001b[0m\u001b[0;32m      3\u001b[0m \u001b[0mprint\u001b[0m\u001b[1;33m(\u001b[0m\u001b[0my\u001b[0m\u001b[1;33m)\u001b[0m\u001b[1;33m\u001b[0m\u001b[1;33m\u001b[0m\u001b[0m\n",
      "\u001b[1;31mNameError\u001b[0m: name 'nbinom' is not defined"
     ]
    }
   ],
   "source": [
    "# Місце для Вашого коду\n",
    "y = nbinom.cdf(x, n, p)\n",
    "print(y)\n"
   ]
  },
  {
   "cell_type": "markdown",
   "metadata": {},
   "source": [
    "Зобразіть графічно значення функції розподілу від'ємного біноміального розподілу з параметрами $n, p$ в точках вектора $x$."
   ]
  },
  {
   "cell_type": "code",
   "execution_count": 13,
   "metadata": {},
   "outputs": [
    {
     "ename": "NameError",
     "evalue": "name 'plt' is not defined",
     "output_type": "error",
     "traceback": [
      "\u001b[1;31m---------------------------------------------------------------------------\u001b[0m",
      "\u001b[1;31mNameError\u001b[0m                                 Traceback (most recent call last)",
      "\u001b[1;32m<ipython-input-13-00e7580122e9>\u001b[0m in \u001b[0;36m<module>\u001b[1;34m\u001b[0m\n\u001b[0;32m      1\u001b[0m \u001b[1;31m# Місце для Вашого коду\u001b[0m\u001b[1;33m\u001b[0m\u001b[1;33m\u001b[0m\u001b[1;33m\u001b[0m\u001b[0m\n\u001b[1;32m----> 2\u001b[1;33m \u001b[0mplt\u001b[0m\u001b[1;33m.\u001b[0m\u001b[0mplot\u001b[0m\u001b[1;33m(\u001b[0m\u001b[0mx\u001b[0m\u001b[1;33m,\u001b[0m \u001b[0my\u001b[0m\u001b[1;33m)\u001b[0m\u001b[1;33m\u001b[0m\u001b[1;33m\u001b[0m\u001b[0m\n\u001b[0m\u001b[0;32m      3\u001b[0m \u001b[0mplt\u001b[0m\u001b[1;33m.\u001b[0m\u001b[0mshow\u001b[0m\u001b[1;33m(\u001b[0m\u001b[1;33m)\u001b[0m\u001b[1;33m\u001b[0m\u001b[1;33m\u001b[0m\u001b[0m\n",
      "\u001b[1;31mNameError\u001b[0m: name 'plt' is not defined"
     ]
    }
   ],
   "source": [
    "# Місце для Вашого коду\n",
    "plt.plot(x, y)\n",
    "plt.show()\n"
   ]
  },
  {
   "cell_type": "markdown",
   "metadata": {},
   "source": [
    "### 1.3 Випадкові величини"
   ]
  },
  {
   "cell_type": "markdown",
   "metadata": {},
   "source": [
    "Згенеруйте $100$ випадкових величин з від'ємного біноміального розподілу з параметрами $n, p$."
   ]
  },
  {
   "cell_type": "code",
   "execution_count": 14,
   "metadata": {},
   "outputs": [
    {
     "ename": "NameError",
     "evalue": "name 'nbinom' is not defined",
     "output_type": "error",
     "traceback": [
      "\u001b[1;31m---------------------------------------------------------------------------\u001b[0m",
      "\u001b[1;31mNameError\u001b[0m                                 Traceback (most recent call last)",
      "\u001b[1;32m<ipython-input-14-95e3b27c2342>\u001b[0m in \u001b[0;36m<module>\u001b[1;34m\u001b[0m\n\u001b[0;32m      1\u001b[0m \u001b[1;31m# Місце для Вашого коду\u001b[0m\u001b[1;33m\u001b[0m\u001b[1;33m\u001b[0m\u001b[1;33m\u001b[0m\u001b[0m\n\u001b[1;32m----> 2\u001b[1;33m \u001b[0mnbinom_rvs\u001b[0m \u001b[1;33m=\u001b[0m \u001b[0mnbinom\u001b[0m\u001b[1;33m.\u001b[0m\u001b[0mrvs\u001b[0m\u001b[1;33m(\u001b[0m\u001b[0mn\u001b[0m\u001b[1;33m,\u001b[0m \u001b[0mp\u001b[0m\u001b[1;33m=\u001b[0m\u001b[0mp\u001b[0m\u001b[1;33m,\u001b[0m \u001b[0msize\u001b[0m\u001b[1;33m=\u001b[0m\u001b[1;36m100\u001b[0m\u001b[1;33m)\u001b[0m\u001b[1;33m\u001b[0m\u001b[1;33m\u001b[0m\u001b[0m\n\u001b[0m\u001b[0;32m      3\u001b[0m \u001b[0mprint\u001b[0m\u001b[1;33m(\u001b[0m\u001b[0mnbinom\u001b[0m\u001b[1;33m)\u001b[0m\u001b[1;33m\u001b[0m\u001b[1;33m\u001b[0m\u001b[0m\n",
      "\u001b[1;31mNameError\u001b[0m: name 'nbinom' is not defined"
     ]
    }
   ],
   "source": [
    "# Місце для Вашого коду\n",
    "nbinom_rvs = nbinom.rvs(n, p=p, size=100)\n",
    "print(nbinom)\n"
   ]
  },
  {
   "cell_type": "markdown",
   "metadata": {},
   "source": [
    "Виведіть кількість кожного елемента в отриманому випадковому векторі."
   ]
  },
  {
   "cell_type": "code",
   "execution_count": 15,
   "metadata": {},
   "outputs": [
    {
     "ename": "NameError",
     "evalue": "name 'nbinom_rvs' is not defined",
     "output_type": "error",
     "traceback": [
      "\u001b[1;31m---------------------------------------------------------------------------\u001b[0m",
      "\u001b[1;31mNameError\u001b[0m                                 Traceback (most recent call last)",
      "\u001b[1;32m<ipython-input-15-ff8b9e3386cc>\u001b[0m in \u001b[0;36m<module>\u001b[1;34m\u001b[0m\n\u001b[0;32m      1\u001b[0m \u001b[1;31m# Місце для Вашого коду\u001b[0m\u001b[1;33m\u001b[0m\u001b[1;33m\u001b[0m\u001b[1;33m\u001b[0m\u001b[0m\n\u001b[1;32m----> 2\u001b[1;33m \u001b[1;32mfor\u001b[0m \u001b[0mi\u001b[0m \u001b[1;32min\u001b[0m \u001b[0mrange\u001b[0m \u001b[1;33m(\u001b[0m\u001b[0mmax\u001b[0m\u001b[1;33m(\u001b[0m\u001b[0mnbinom_rvs\u001b[0m\u001b[1;33m)\u001b[0m\u001b[1;33m+\u001b[0m\u001b[1;36m1\u001b[0m\u001b[1;33m)\u001b[0m\u001b[1;33m:\u001b[0m\u001b[1;33m\u001b[0m\u001b[1;33m\u001b[0m\u001b[0m\n\u001b[0m\u001b[0;32m      3\u001b[0m     \u001b[0mprint\u001b[0m\u001b[1;33m(\u001b[0m\u001b[1;34m'Кількість {} : {}'\u001b[0m\u001b[1;33m.\u001b[0m\u001b[0mformat\u001b[0m\u001b[1;33m(\u001b[0m\u001b[0mi\u001b[0m\u001b[1;33m,\u001b[0m \u001b[0msum\u001b[0m\u001b[1;33m(\u001b[0m\u001b[0mnbinom_rvs\u001b[0m\u001b[1;33m==\u001b[0m\u001b[0mi\u001b[0m\u001b[1;33m)\u001b[0m\u001b[1;33m)\u001b[0m\u001b[1;33m)\u001b[0m\u001b[1;33m\u001b[0m\u001b[1;33m\u001b[0m\u001b[0m\n",
      "\u001b[1;31mNameError\u001b[0m: name 'nbinom_rvs' is not defined"
     ]
    }
   ],
   "source": [
    "# Місце для Вашого коду\n",
    "for i in range (max(nbinom_rvs)+1):\n",
    "    print('Кількість {} : {}'.format(i, sum(nbinom_rvs==i)))\n"
   ]
  },
  {
   "cell_type": "markdown",
   "metadata": {},
   "source": [
    "Зобразіть графічно кількість кожного елемента в отриманому випадковому векторі."
   ]
  },
  {
   "cell_type": "code",
   "execution_count": 13,
   "metadata": {
    "scrolled": true
   },
   "outputs": [],
   "source": [
    "# Місце для Вашого коду\n",
    "plt.hist(nbinom_rvs)\n",
    "plt.show()\n"
   ]
  },
  {
   "cell_type": "markdown",
   "metadata": {},
   "source": [
    "## 2 Гіпергеометричний розподіл"
   ]
  },
  {
   "cell_type": "markdown",
   "metadata": {},
   "source": [
    "Більш детальна інформація в [документації](https://docs.scipy.org/doc/scipy/reference/generated/scipy.stats.hypergeom.html)."
   ]
  },
  {
   "cell_type": "code",
   "execution_count": 14,
   "metadata": {
    "collapsed": true
   },
   "outputs": [],
   "source": [
    "from scipy.stats import hypergeom"
   ]
  },
  {
   "cell_type": "code",
   "execution_count": 15,
   "metadata": {
    "collapsed": true
   },
   "outputs": [],
   "source": [
    "M = 20\n",
    "n = 7\n",
    "N = 12"
   ]
  },
  {
   "cell_type": "markdown",
   "metadata": {},
   "source": [
    "### 2.1 Щільність"
   ]
  },
  {
   "cell_type": "code",
   "execution_count": 16,
   "metadata": {
    "collapsed": true
   },
   "outputs": [],
   "source": [
    "x = np.arange(max(0, N-M+n)-0.5, min(n, N)+1, 0.5)"
   ]
  },
  {
   "cell_type": "markdown",
   "metadata": {},
   "source": [
    "Виведіть значення функції щільності гіпергеометричного розподілу з параметрами $M, n, N$ в точках вектора $x$."
   ]
  },
  {
   "cell_type": "code",
   "execution_count": 17,
   "metadata": {},
   "outputs": [],
   "source": [
    "# Місце для Вашого коду\n",
    "y = hypergeom.pmf(x, M, n, N)\n",
    "print(y)\n"
   ]
  },
  {
   "cell_type": "markdown",
   "metadata": {},
   "source": [
    "Зобразіть графічно значення функції щільності гіпергеометричного розподілу з параметрами $M, n, N$ в точках вектора $x$."
   ]
  },
  {
   "cell_type": "code",
   "execution_count": 18,
   "metadata": {},
   "outputs": [],
   "source": [
    "# Місце для Вашого коду\n",
    "plt.stem(x, y)\n",
    "plt.show()\n"
   ]
  },
  {
   "cell_type": "markdown",
   "metadata": {},
   "source": [
    "Зобразіть графічно значення функції щільності гіпергеометричного розподілу з параметрами $M, n, N$ в точках вектора $x1$."
   ]
  },
  {
   "cell_type": "code",
   "execution_count": 19,
   "metadata": {
    "collapsed": true
   },
   "outputs": [],
   "source": [
    "x1 = np.arange(max(0, N-M+n), min(n, N)+1)"
   ]
  },
  {
   "cell_type": "code",
   "execution_count": 20,
   "metadata": {},
   "outputs": [],
   "source": [
    "# Місце для Вашого коду\n",
    "y1 = hypergeom.pmf(x1, M, n, N)\n",
    "plt.stem(x1, y1)\n",
    "plt.show()\n"
   ]
  },
  {
   "cell_type": "markdown",
   "metadata": {},
   "source": [
    "### 2.2 Функція розподілу"
   ]
  },
  {
   "cell_type": "markdown",
   "metadata": {},
   "source": [
    "Виведіть значення функції розподілу гіпергеометричного розподілу з параметрами $M, n, N$ в точках вектора $x$."
   ]
  },
  {
   "cell_type": "code",
   "execution_count": 16,
   "metadata": {},
   "outputs": [
    {
     "ename": "NameError",
     "evalue": "name 'hypergeom' is not defined",
     "output_type": "error",
     "traceback": [
      "\u001b[1;31m---------------------------------------------------------------------------\u001b[0m",
      "\u001b[1;31mNameError\u001b[0m                                 Traceback (most recent call last)",
      "\u001b[1;32m<ipython-input-16-45265dabae49>\u001b[0m in \u001b[0;36m<module>\u001b[1;34m\u001b[0m\n\u001b[0;32m      1\u001b[0m \u001b[1;31m# Місце для Вашого коду\u001b[0m\u001b[1;33m\u001b[0m\u001b[1;33m\u001b[0m\u001b[1;33m\u001b[0m\u001b[0m\n\u001b[1;32m----> 2\u001b[1;33m \u001b[0my\u001b[0m \u001b[1;33m=\u001b[0m \u001b[0mhypergeom\u001b[0m\u001b[1;33m.\u001b[0m\u001b[0mcdf\u001b[0m\u001b[1;33m(\u001b[0m\u001b[0mx\u001b[0m\u001b[1;33m,\u001b[0m \u001b[0mM\u001b[0m\u001b[1;33m,\u001b[0m \u001b[0mn\u001b[0m\u001b[1;33m,\u001b[0m \u001b[0mN\u001b[0m\u001b[1;33m)\u001b[0m\u001b[1;33m\u001b[0m\u001b[1;33m\u001b[0m\u001b[0m\n\u001b[0m\u001b[0;32m      3\u001b[0m \u001b[0mprint\u001b[0m\u001b[1;33m(\u001b[0m\u001b[0my\u001b[0m\u001b[1;33m)\u001b[0m\u001b[1;33m\u001b[0m\u001b[1;33m\u001b[0m\u001b[0m\n",
      "\u001b[1;31mNameError\u001b[0m: name 'hypergeom' is not defined"
     ]
    }
   ],
   "source": [
    "# Місце для Вашого коду\n",
    "y = hypergeom.cdf(x, M, n, N)\n",
    "print(y)\n"
   ]
  },
  {
   "cell_type": "markdown",
   "metadata": {},
   "source": [
    "Зобразіть графічно значення функції розподілу гіпергеометричного розподілу з параметрами $M, n, N$ в точках вектора $x$."
   ]
  },
  {
   "cell_type": "code",
   "execution_count": 17,
   "metadata": {},
   "outputs": [
    {
     "ename": "NameError",
     "evalue": "name 'plt' is not defined",
     "output_type": "error",
     "traceback": [
      "\u001b[1;31m---------------------------------------------------------------------------\u001b[0m",
      "\u001b[1;31mNameError\u001b[0m                                 Traceback (most recent call last)",
      "\u001b[1;32m<ipython-input-17-00e7580122e9>\u001b[0m in \u001b[0;36m<module>\u001b[1;34m\u001b[0m\n\u001b[0;32m      1\u001b[0m \u001b[1;31m# Місце для Вашого коду\u001b[0m\u001b[1;33m\u001b[0m\u001b[1;33m\u001b[0m\u001b[1;33m\u001b[0m\u001b[0m\n\u001b[1;32m----> 2\u001b[1;33m \u001b[0mplt\u001b[0m\u001b[1;33m.\u001b[0m\u001b[0mplot\u001b[0m\u001b[1;33m(\u001b[0m\u001b[0mx\u001b[0m\u001b[1;33m,\u001b[0m \u001b[0my\u001b[0m\u001b[1;33m)\u001b[0m\u001b[1;33m\u001b[0m\u001b[1;33m\u001b[0m\u001b[0m\n\u001b[0m\u001b[0;32m      3\u001b[0m \u001b[0mplt\u001b[0m\u001b[1;33m.\u001b[0m\u001b[0mshow\u001b[0m\u001b[1;33m(\u001b[0m\u001b[1;33m)\u001b[0m\u001b[1;33m\u001b[0m\u001b[1;33m\u001b[0m\u001b[0m\n",
      "\u001b[1;31mNameError\u001b[0m: name 'plt' is not defined"
     ]
    }
   ],
   "source": [
    "# Місце для Вашого коду\n",
    "plt.plot(x, y)\n",
    "plt.show()\n"
   ]
  },
  {
   "cell_type": "markdown",
   "metadata": {},
   "source": [
    "### 2.3 Випадкові величини"
   ]
  },
  {
   "cell_type": "markdown",
   "metadata": {},
   "source": [
    "Згенеруйте $100$ випадкових величин з гіпергеометричного розподілу з параметрами $M, n, N$."
   ]
  },
  {
   "cell_type": "code",
   "execution_count": 18,
   "metadata": {},
   "outputs": [
    {
     "ename": "NameError",
     "evalue": "name 'hypergeom' is not defined",
     "output_type": "error",
     "traceback": [
      "\u001b[1;31m---------------------------------------------------------------------------\u001b[0m",
      "\u001b[1;31mNameError\u001b[0m                                 Traceback (most recent call last)",
      "\u001b[1;32m<ipython-input-18-998bf88f3dcf>\u001b[0m in \u001b[0;36m<module>\u001b[1;34m\u001b[0m\n\u001b[0;32m      1\u001b[0m \u001b[1;31m# Місце для Вашого коду\u001b[0m\u001b[1;33m\u001b[0m\u001b[1;33m\u001b[0m\u001b[1;33m\u001b[0m\u001b[0m\n\u001b[1;32m----> 2\u001b[1;33m \u001b[0mhypergeom_rvs\u001b[0m \u001b[1;33m=\u001b[0m\u001b[0mhypergeom\u001b[0m\u001b[1;33m.\u001b[0m\u001b[0mrvs\u001b[0m\u001b[1;33m(\u001b[0m\u001b[0mM\u001b[0m\u001b[1;33m,\u001b[0m \u001b[0mn\u001b[0m\u001b[1;33m,\u001b[0m \u001b[0mN\u001b[0m\u001b[1;33m,\u001b[0m \u001b[0msize\u001b[0m\u001b[1;33m=\u001b[0m\u001b[1;36m100\u001b[0m\u001b[1;33m)\u001b[0m\u001b[1;33m\u001b[0m\u001b[1;33m\u001b[0m\u001b[0m\n\u001b[0m\u001b[0;32m      3\u001b[0m \u001b[0mprint\u001b[0m\u001b[1;33m(\u001b[0m\u001b[0mhypergeom_rvs\u001b[0m\u001b[1;33m)\u001b[0m\u001b[1;33m\u001b[0m\u001b[1;33m\u001b[0m\u001b[0m\n",
      "\u001b[1;31mNameError\u001b[0m: name 'hypergeom' is not defined"
     ]
    }
   ],
   "source": [
    "# Місце для Вашого коду\n",
    "hypergeom_rvs =hypergeom.rvs(M, n, N, size=100)\n",
    "print(hypergeom_rvs)"
   ]
  },
  {
   "cell_type": "markdown",
   "metadata": {},
   "source": [
    "Виведіть кількість кожного елемента в отриманому випадковому векторі."
   ]
  },
  {
   "cell_type": "code",
   "execution_count": 24,
   "metadata": {},
   "outputs": [],
   "source": [
    "# Місце для Вашого коду\n",
    "for i in range (max(hypergeom_rvs)+1):\n",
    "    print('Кількість {} : {}'.format(i, sum(hypergeom_rvs==i)))\n"
   ]
  },
  {
   "cell_type": "markdown",
   "metadata": {},
   "source": [
    "Зобразіть графічно кількість кожного елемента в отриманому випадковому векторі."
   ]
  },
  {
   "cell_type": "code",
   "execution_count": 25,
   "metadata": {
    "scrolled": true
   },
   "outputs": [],
   "source": [
    "# Місце для Вашого коду\n",
    "plt.hist(hypergeom_rvs)\n",
    "plt.show()\n"
   ]
  },
  {
   "cell_type": "markdown",
   "metadata": {},
   "source": [
    "## 3 Різні параметри"
   ]
  },
  {
   "cell_type": "markdown",
   "metadata": {},
   "source": [
    "### 3.1 Біноміальний розподіл"
   ]
  },
  {
   "cell_type": "markdown",
   "metadata": {},
   "source": [
    "Зобразіть графічно функцію щільності, функцію розподілу та гістограму $10000$ випадкових величин біноміального розподілу з параметрами:\n",
    "1. $n = 15, p = 0.8$\n",
    "2. $n = 15, p = 0.2$\n",
    "3. $n = 20, p = 0.4$\n",
    "4. $n = 20, p = 0.6$\n",
    "5. $n = 7, p = 0.5$\n",
    "6. $n = 25, p = 0.5$\n",
    "7. $n = 100, p = 0.5$"
   ]
  },
  {
   "cell_type": "code",
   "execution_count": 26,
   "metadata": {
    "collapsed": true
   },
   "outputs": [],
   "source": [
    "# Місце для Вашого коду\n",
    "from scipy.stats import binom\n",
    "def do (n, p):\n",
    "    x = np.arange(-0.5, n+1, 0.5)\n",
    "    y = binom.pmf(x, n, p)\n",
    "    plt.stem(x, y)\n",
    "    plt.show()\n",
    "    y = binom.cdf(x, n, p)\n",
    "    plt.plot(x, y)\n",
    "    plt.show()\n",
    "    bn_rvs = binom.rvs(n, p, size=1000)\n",
    "    plt.hist(bn_rvs)\n",
    "    plt.show()\n",
    "do (𝑛=15,𝑝=0.8)\n",
    "do (𝑛=15,𝑝=0.2) \n",
    "do (𝑛=20,𝑝=0.4 )\n",
    "do (𝑛=20,𝑝=0.6 )\n",
    "do(𝑛=7,𝑝=0.5) \n",
    "do(𝑛=25,𝑝=0.5) \n",
    "do(𝑛=100,𝑝=0.5)\n"
   ]
  },
  {
   "cell_type": "markdown",
   "metadata": {},
   "source": [
    "### 3.2 Геометричний розподіл"
   ]
  },
  {
   "cell_type": "markdown",
   "metadata": {},
   "source": [
    "Зобразіть графічно функцію щільності, функцію розподілу та гістограму $10000$ випадкових величин геометричного розподілу з параметрами:\n",
    "1. $p = 0.1$\n",
    "2. $p = 0.2$\n",
    "3. $p = 0.3$\n",
    "4. $p = 0.4$\n",
    "5. $p = 0.5$\n",
    "6. $p = 0.6$\n",
    "7. $p = 0.7$\n",
    "8. $p = 0.8$\n",
    "9. $p = 0.9$"
   ]
  },
  {
   "cell_type": "code",
   "execution_count": 27,
   "metadata": {
    "collapsed": true
   },
   "outputs": [],
   "source": [
    "# Місце для Вашого коду\n",
    "from scipy.stats import geom\n",
    "def do (p):\n",
    "    x = np.arange(0, 11, 0.5)\n",
    "    y = geom.pmf(x, p)\n",
    "    plt.stem(x, y)\n",
    "    plt.show()\n",
    "    y = geom.cdf(x, p)\n",
    "    plt.plot(x, y)\n",
    "    plt.show()\n",
    "    geom_rvs = geom.rvs(p, size=1000)\n",
    "    plt.hist(geom_rvs)\n",
    "    plt.show()\n",
    "for i in range (1, 10, 1):\n",
    "    do(i/10)\n"
   ]
  },
  {
   "cell_type": "markdown",
   "metadata": {},
   "source": [
    "### 3.3 Розподіл Пуассона"
   ]
  },
  {
   "cell_type": "markdown",
   "metadata": {},
   "source": [
    "Зобразіть графічно функцію щільності, функцію розподілу та гістограму $10000$ випадкових величин розподілу Пуассона з параметрами:\n",
    "1. $\\mu = 0.1$\n",
    "2. $\\mu = 0.2$\n",
    "3. $\\mu = 0.3$\n",
    "4. $\\mu = 0.4$\n",
    "5. $\\mu = 0.5$\n",
    "6. $\\mu = 0.6$\n",
    "7. $\\mu = 0.7$\n",
    "8. $\\mu = 0.8$\n",
    "9. $\\mu = 0.9$"
   ]
  },
  {
   "cell_type": "code",
   "execution_count": 28,
   "metadata": {
    "collapsed": true
   },
   "outputs": [],
   "source": [
    "# Місце для Вашого коду\n",
    "from scipy.stats import poisson\n",
    "def do (mu):\n",
    "    x = np.arange(-0.5, 11, 0.5)\n",
    "    y = poisson.pmf(x, mu)\n",
    "    plt.stem(x, y)\n",
    "    plt.show()\n",
    "    y = poisson.cdf(x, mu)\n",
    "    plt.plot(x, y)\n",
    "    plt.show()\n",
    "    poisson_rvs = poisson.rvs(mu, size=1000)\n",
    "    plt.hist(poisson_rvs)\n",
    "    plt.show()\n",
    "for i in range (1, 10, 1):\n",
    "    do(i/10)\n"
   ]
  },
  {
   "cell_type": "markdown",
   "metadata": {},
   "source": [
    "### 3.4 Від'ємний біноміальний розподіл"
   ]
  },
  {
   "cell_type": "markdown",
   "metadata": {},
   "source": [
    "Зобразіть графічно функцію щільності, функцію розподілу та гістограму $10000$ випадкових величин від'ємного біноміального розподілу з параметрами:\n",
    "1. $n = 15, p = 0.8$\n",
    "2. $n = 15, p = 0.2$\n",
    "3. $n = 20, p = 0.4$\n",
    "4. $n = 20, p = 0.6$\n",
    "5. $n = 7, p = 0.5$\n",
    "6. $n = 25, p = 0.5$\n",
    "7. $n = 100, p = 0.5$"
   ]
  },
  {
   "cell_type": "code",
   "execution_count": 29,
   "metadata": {
    "collapsed": true
   },
   "outputs": [],
   "source": [
    "# Місце для Вашого коду\n",
    "from scipy.stats import nbinom\n",
    "def do (n, p):\n",
    "    x = np.arange(-0.5, n+1, 0.5)\n",
    "    y = nbinom.pmf(x, n, p)\n",
    "    plt.stem(x, y)\n",
    "    plt.show()\n",
    "    y = nbinom.cdf(x, n, p)\n",
    "    plt.plot(x, y)\n",
    "    plt.show()\n",
    "    bn_rvs = nbinom.rvs(n, p, size=1000)\n",
    "    plt.hist(bn_rvs)\n",
    "    plt.show()\n",
    "do (𝑛=15,𝑝=0.8)\n",
    "do (𝑛=15,𝑝=0.2) \n",
    "do (𝑛=20,𝑝=0.4 )\n",
    "do (𝑛=20,𝑝=0.6 )\n",
    "do(𝑛=7,𝑝=0.5) \n",
    "do(𝑛=25,𝑝=0.5) \n",
    "do(𝑛=100,𝑝=0.5)\n"
   ]
  },
  {
   "cell_type": "markdown",
   "metadata": {},
   "source": [
    "### 3.5 Гіпергеометричний розподіл"
   ]
  },
  {
   "cell_type": "markdown",
   "metadata": {},
   "source": [
    "Зобразіть графічно функцію щільності, функцію розподілу та гістограму $10000$ випадкових величин гіпергеометричного розподілу з параметрами:\n",
    "1. $M = 10, n = 3, N = 7$\n",
    "2. $M = 50, n = 10, N = 5$\n",
    "3. $M = 50, n = 10, N = 10$\n",
    "4. $M = 50, n = 10, N = 20$\n",
    "5. $M = 50, n = 10, N = 30$\n",
    "6. $M = 50, n = 10, N = 40$\n",
    "7. $M = 50, n = 10, N = 50$\n",
    "8. $M = 50, n = 5, N = 25$\n",
    "9. $M = 50, n = 15, N = 25$\n",
    "10. $M = 50, n = 25, N = 25$\n",
    "11. $M = 50, n = 35, N = 25$\n",
    "12. $M = 50, n = 45, N = 25$"
   ]
  },
  {
   "cell_type": "code",
   "execution_count": 30,
   "metadata": {
    "collapsed": true
   },
   "outputs": [],
   "source": [
    "# Місце для Вашого коду\n",
    "from scipy.stats import hypergeom\n",
    "def do (M, n, N):\n",
    "    x = np.arange(max(0, N-M+n)-0.5, min(n, N)+1, 0.5)\n",
    "    y = hypergeom.pmf(x, M, n, N)\n",
    "    plt.stem(x, y)\n",
    "    plt.show()\n",
    "    y = hypergeom.cdf(x, M, n, N)\n",
    "    plt.plot(x, y)\n",
    "    plt.show()\n",
    "    hg_rvs = hypergeom.rvs(M, n, N, size=1000)\n",
    "    plt.hist(hg_rvs)\n",
    "    plt.show()\n",
    "do(𝑀=10,𝑛=3,𝑁=7) \n",
    "do(𝑀=50,𝑛=10,𝑁=5) \n",
    "do(𝑀=50,𝑛=10,𝑁=10) \n",
    "do(𝑀=50,𝑛=10,𝑁=20) \n",
    "do(𝑀=50,𝑛=10,𝑁=30) \n",
    "do(𝑀=50,𝑛=10,𝑁=40) \n",
    "do(𝑀=50,𝑛=10,𝑁=50) \n",
    "do(𝑀=50,𝑛=5,𝑁=25) \n",
    "do(𝑀=50,𝑛=15,𝑁=25) \n",
    "do(𝑀=50,𝑛=25,𝑁=25) \n",
    "do(𝑀=50,𝑛=35,𝑁=25) \n",
    "do(𝑀=50,𝑛=45,𝑁=25)\n"
   ]
  },
  {
   "cell_type": "markdown",
   "metadata": {
    "collapsed": true
   },
   "source": [
    "## 4 Апроксимація біноміального розподілу розподілом Пуассона"
   ]
  },
  {
   "cell_type": "markdown",
   "metadata": {},
   "source": [
    "Покажіть схожість біноміального розподілу та розподілу Пуассона (їх функцій щільності) з відповідними параметрами.\n",
    "Наприклад:\n",
    "- $n = 100, p = 0.05$\n",
    "- $n = 100, p = 0.1$\n",
    "- $n = 100, p = 0.15$\n",
    "- $n = 100, p = 0.2$\n",
    "- $n = 100, p = 0.35$\n",
    "- $n = 100, p = 0.5$\n",
    "- $n = 100, p = 0.75$"
   ]
  },
  {
   "cell_type": "code",
   "execution_count": 1,
   "metadata": {},
   "outputs": [
    {
     "ename": "NameError",
     "evalue": "name 'np' is not defined",
     "output_type": "error",
     "traceback": [
      "\u001b[1;31m---------------------------------------------------------------------------\u001b[0m",
      "\u001b[1;31mNameError\u001b[0m                                 Traceback (most recent call last)",
      "\u001b[1;32m<ipython-input-1-0c1ecaef10aa>\u001b[0m in \u001b[0;36m<module>\u001b[1;34m\u001b[0m\n\u001b[0;32m      1\u001b[0m \u001b[1;31m# Місце для Вашого коду\u001b[0m\u001b[1;33m\u001b[0m\u001b[1;33m\u001b[0m\u001b[1;33m\u001b[0m\u001b[0m\n\u001b[0;32m      2\u001b[0m \u001b[0mmu\u001b[0m\u001b[1;33m=\u001b[0m\u001b[1;36m6\u001b[0m\u001b[1;33m\u001b[0m\u001b[1;33m\u001b[0m\u001b[0m\n\u001b[1;32m----> 3\u001b[1;33m \u001b[0mx\u001b[0m \u001b[1;33m=\u001b[0m \u001b[0mnp\u001b[0m\u001b[1;33m.\u001b[0m\u001b[0marange\u001b[0m\u001b[1;33m(\u001b[0m\u001b[1;33m-\u001b[0m\u001b[1;36m0.5\u001b[0m\u001b[1;33m,\u001b[0m \u001b[1;36m11\u001b[0m\u001b[1;33m,\u001b[0m \u001b[1;36m0.5\u001b[0m\u001b[1;33m)\u001b[0m\u001b[1;33m\u001b[0m\u001b[1;33m\u001b[0m\u001b[0m\n\u001b[0m\u001b[0;32m      4\u001b[0m \u001b[0my\u001b[0m \u001b[1;33m=\u001b[0m \u001b[0mpoisson\u001b[0m\u001b[1;33m.\u001b[0m\u001b[0mpmf\u001b[0m\u001b[1;33m(\u001b[0m\u001b[0mx\u001b[0m\u001b[1;33m,\u001b[0m \u001b[0mmu\u001b[0m\u001b[1;33m)\u001b[0m\u001b[1;33m\u001b[0m\u001b[1;33m\u001b[0m\u001b[0m\n\u001b[0;32m      5\u001b[0m \u001b[0mplt\u001b[0m\u001b[1;33m.\u001b[0m\u001b[0mstem\u001b[0m\u001b[1;33m(\u001b[0m\u001b[0mx\u001b[0m\u001b[1;33m,\u001b[0m \u001b[0my\u001b[0m\u001b[1;33m)\u001b[0m\u001b[1;33m\u001b[0m\u001b[1;33m\u001b[0m\u001b[0m\n",
      "\u001b[1;31mNameError\u001b[0m: name 'np' is not defined"
     ]
    }
   ],
   "source": [
    "# Місце для Вашого коду\n",
    "mu=6\n",
    "x = np.arange(-0.5, 11, 0.5)\n",
    "y = poisson.pmf(x, mu)\n",
    "plt.stem(x, y)\n",
    "plt.show()\n",
    "y = poisson.cdf(x, mu)\n",
    "plt.plot(x, y)\n",
    "plt.show()\n",
    "poisson_rvs = poisson.rvs(mu, size=1000)\n",
    "plt.hist(poisson_rvs)\n",
    "plt.show()\n",
    "def do (n, p):\n",
    "    x = np.arange(-0.5, n+1, 0.5)\n",
    "    y = binom.pmf(x, n, p)\n",
    "    plt.stem(x, y)\n",
    "    plt.show()\n",
    "    y = binom.cdf(x, n, p)\n",
    "    plt.plot(x, y)\n",
    "    plt.show()\n",
    "do(100, 0.05)\n",
    "do(100, 0.1)\n",
    "do(100, 0.15)\n",
    "do(100, 0.2)\n",
    "do(100, 0.35)\n",
    "do(100, 0.5)\n",
    "do(100, 0.75)\n"
   ]
  },
  {
   "cell_type": "code",
   "execution_count": null,
   "metadata": {},
   "outputs": [],
   "source": []
  }
 ],
 "metadata": {
  "kernelspec": {
   "display_name": "Python 3",
   "language": "python",
   "name": "python3"
  },
  "language_info": {
   "codemirror_mode": {
    "name": "ipython",
    "version": 3
   },
   "file_extension": ".py",
   "mimetype": "text/x-python",
   "name": "python",
   "nbconvert_exporter": "python",
   "pygments_lexer": "ipython3",
   "version": "3.7.3"
  }
 },
 "nbformat": 4,
 "nbformat_minor": 1
}
